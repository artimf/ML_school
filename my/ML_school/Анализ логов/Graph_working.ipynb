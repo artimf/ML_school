{
 "cells": [
  {
   "cell_type": "markdown",
   "metadata": {},
   "source": [
    "В лекциях, по классическим методам Process Mining мы рассмотрели, как можно анализировать процессы, основываясь на цифровых следах. Попробуем применить полученные данные для анализа лог-файла. Мы проанализируем последовательность действий в процессе."
   ]
  },
  {
   "cell_type": "code",
   "execution_count": 1,
   "metadata": {},
   "outputs": [],
   "source": [
    "#https://stackoverflow.com/questions/36869258/how-to-use-graphviz-with-anaconda-spyder?lq=1"
   ]
  },
  {
   "cell_type": "code",
   "execution_count": 24,
   "metadata": {
    "scrolled": true
   },
   "outputs": [],
   "source": [
    "import os\n",
    "os.environ[\"PATH\"] += os.pathsep + 'C:/Program Files (x86)/Graphviz2.38/bin/'\n",
    "\n",
    "import pandas as pd\n",
    "import numpy as np \n",
    "import pygraphviz as pgv #ЕСли не установлена библиотека, необходимо ее уставновить при помощи PIP\n",
    "#import graphviz as pgv "
   ]
  },
  {
   "cell_type": "markdown",
   "metadata": {},
   "source": [
    "Загружаем данные из лог-файла"
   ]
  },
  {
   "cell_type": "code",
   "execution_count": 25,
   "metadata": {},
   "outputs": [],
   "source": [
    "f = open('eventlog_v3.csv', 'r')\n",
    "log = dict()"
   ]
  },
  {
   "cell_type": "markdown",
   "metadata": {},
   "source": [
    "В файле у нас имеется идентифкатор операции (буквенночисленные значения) , и статусы операции ( значания 20, 30, 40 и.т.д)"
   ]
  },
  {
   "cell_type": "markdown",
   "metadata": {},
   "source": [
    "Преобразуем лог-файл   "
   ]
  },
  {
   "cell_type": "code",
   "execution_count": 26,
   "metadata": {},
   "outputs": [],
   "source": [
    "for line in f:\n",
    "    line = line.strip()\n",
    "    if len(line) == 0:\n",
    "        continue\n",
    "    parts = line.split(',')\n",
    "    caseid = parts[1]\n",
    "    task = parts[2]\n",
    "    if caseid not in log:\n",
    "        log[caseid] = []\n",
    "    log[caseid].append(task)\n",
    "    \n",
    "f.close()"
   ]
  },
  {
   "cell_type": "markdown",
   "metadata": {},
   "source": [
    "Создадим структуру - словарь-словарей, где ключами будут статусы по событиям из лог-файла"
   ]
  },
  {
   "cell_type": "code",
   "execution_count": 27,
   "metadata": {},
   "outputs": [
    {
     "name": "stdout",
     "output_type": "stream",
     "text": [
      "2 -> 2 : 496573\n",
      "2 -> 3 : 10068\n",
      "2 -> 4 : 2096\n",
      "2 -> 6 : 1743\n",
      "3 -> 2 : 1125\n",
      "3 -> 3 : 469812\n",
      "3 -> 4 : 8339\n",
      "3 -> 6 : 46\n",
      "4 -> 2 : 860\n",
      "4 -> 4 : 39437\n",
      "4 -> 6 : 1\n",
      "6 -> 2 : 135\n",
      "6 -> 6 : 3041\n"
     ]
    }
   ],
   "source": [
    "F = dict()\n",
    "for caseid in log:\n",
    "    for i in range(0, len(log[caseid])-1):\n",
    "        ai = log[caseid][i][0]\n",
    "        aj = log[caseid][i+1][0]\n",
    "        if ai not in F:\n",
    "            F[ai] = dict()\n",
    "        if aj not in F[ai]:\n",
    "            F[ai][aj] = 0\n",
    "        F[ai][aj] += 1\n",
    "\n",
    "for ai in sorted(F.keys()):\n",
    "    for aj in sorted(F[ai].keys()):\n",
    "        print (ai, '->', aj, ':', F[ai][aj])"
   ]
  },
  {
   "cell_type": "markdown",
   "metadata": {},
   "source": [
    "Необходимо при помощи библиотеки pygraphviz выполнить визуализацию структуры словарь-словарей, которая создана выше. (Дописать код ниже)"
   ]
  },
  {
   "cell_type": "code",
   "execution_count": 28,
   "metadata": {},
   "outputs": [],
   "source": [
    "#from graphviz import Source, render\n",
    "G = pgv.AGraph(strict=False, directed=True)\n",
    "#G = pgv.Digraph(strict=False )\n",
    "G.graph_attr['rankdir'] = 'TD'\n",
    "G.node_attr['shape'] = 'box'\n",
    "\n",
    "\n",
    "values = [F[ai][aj] for ai in F for aj in F[ai]]\n",
    "x_min = min(values)\n",
    "x_max = max(values)\n",
    "\n",
    "y_min=1.0\n",
    "y_max=5.0\n",
    "\n",
    "for ai in F:\n",
    "    for aj in F[ai]:\n",
    "        x= F[ai][aj]\n",
    "        y=y_min+(y_max-y_min)*float(x-x_min)/float(x_max-x_min)\n",
    "        G.add_edge(ai,aj,label=F[ai][aj],penwidth=y)\n",
    "\n",
    "\n",
    "########## необходимо дописать код для построения графа ##########"
   ]
  },
  {
   "cell_type": "markdown",
   "metadata": {},
   "source": [
    "Сохраним полученный граф в формате .png"
   ]
  },
  {
   "cell_type": "code",
   "execution_count": 59,
   "metadata": {},
   "outputs": [],
   "source": [
    "#G.draw('graph.jpg', prog='dot')\n",
    "G.draw('graph.jpg', prog='circo') \n",
    "G.draw('file.ps',prog='circo') "
   ]
  },
  {
   "cell_type": "markdown",
   "metadata": {
    "collapsed": true
   },
   "source": [
    "После того, как мы получили граф, попробуем его проанализировать.\n",
    "\n",
    "Какой путь (ребро графа из одной операции в другую) является самым коротким (наименьшее количество переходов)?\n",
    "Какой самый частый переход между операциями (наибольшее количество переходов)?"
   ]
  },
  {
   "cell_type": "code",
   "execution_count": null,
   "metadata": {},
   "outputs": [],
   "source": []
  }
 ],
 "metadata": {
  "kernelspec": {
   "display_name": "Python 3",
   "language": "python",
   "name": "python3"
  },
  "language_info": {
   "codemirror_mode": {
    "name": "ipython",
    "version": 3
   },
   "file_extension": ".py",
   "mimetype": "text/x-python",
   "name": "python",
   "nbconvert_exporter": "python",
   "pygments_lexer": "ipython3",
   "version": "3.7.4"
  }
 },
 "nbformat": 4,
 "nbformat_minor": 1
}
