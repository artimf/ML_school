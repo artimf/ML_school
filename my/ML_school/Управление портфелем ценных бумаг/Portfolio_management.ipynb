{
 "cells": [
  {
   "cell_type": "markdown",
   "metadata": {},
   "source": [
    "# �������� �������"
   ]
  },
  {
   "cell_type": "markdown",
   "metadata": {},
   "source": [
    "���������� ��������� ������ ����� ���������� ��� ��������� ���������� � ������������ ���������� ��������, ������� �������� ���������� ��������"
   ]
  },
  {
   "cell_type": "markdown",
   "metadata": {},
   "source": [
    "������� ��������� ���������� ��������� ������ ����� ����� ������� ��������� �� �������������� � �����������:\n",
    "* �������������� ���������� �������� �� ����� ������ ������� ��� ���������� ��������� ����������� ����-����������. ��������, ����� ������������ �������� ���������������������� ������� ����� ���� �������� � �������� ��� �������� ��������� �����.\n",
    "* ���� ������������ ���������� ������� � ������ ����� �������� ���������������������� �������, ������� �� ��������������� ���������� ��������� ��������."
   ]
  },
  {
   "cell_type": "markdown",
   "metadata": {},
   "source": [
    "������� ������������ ���������� �� �������� ����������� �������������� ���� ������������� ���������� ������, ����� ��� ������� ���������� ��������, ������� ���������� ������� ��� ������ �������������� ��������. �������, ����������� ���������� ��������� ������ ����� ������������ ����� ������ ������������ ����������."
   ]
  },
  {
   "cell_type": "markdown",
   "metadata": {},
   "source": [
    "� ������ ������� ������������ ����������� ������� ���������� ������ ������������ ���������� ��������� ������ ����� � ������� ��������� Q-�������� ��������. � �������� ��������� ���������� ������� ��������������� ���������:\n",
    "* ������������ ����� �������� Public Service Enterprise Group (\"PEG\")\n",
    "* ������������ ����� �������� Consolidated Edison (\"ED\")\n",
    "* ������������ ����� �������� Eversource Energy (\"ES\")\n",
    "* ����������� ����� � ������������� ����������� 1.0% ������� (\"rf\")"
   ]
  },
  {
   "cell_type": "markdown",
   "metadata": {},
   "source": [
    "��� �������� AI ������, ��������������� ����������� ����������� ���������� ���������, ���� ������� ������� ������� ���������� �� ������ � 1 ���� 2008 �. �� 30 ������� 2016 �. ������ �������� � ���� ���� �����, � ����� ����� ������������ ��������, ������� ����� ���� ������� ��� ������������ ���������� �����. ���������� �������� ���������� 0.05% �� ������� ������."
   ]
  },
  {
   "cell_type": "markdown",
   "metadata": {},
   "source": [
    "���� ������������ ���������� ��������� � ��������������� ����������� ����� (�.�. ����-���������� ���������� ��������). ������� ������� ������������ ����� ����� ��������� ���:\n",
    "![����������� �����](Pic1.png)"
   ]
  },
  {
   "cell_type": "markdown",
   "metadata": {},
   "source": [
    "# �������"
   ]
  },
  {
   "cell_type": "markdown",
   "metadata": {},
   "source": [
    "### �������� ���������"
   ]
  },
  {
   "cell_type": "code",
   "execution_count": null,
   "metadata": {},
   "outputs": [],
   "source": [
    "import numpy as np\n",
    "import pandas as pd\n",
    "import itertools as it\n",
    "\n",
    "from tabulate import tabulate\n",
    "import matplotlib.pyplot as plt\n",
    "\n",
    "import tensorflow as tf\n",
    "\n",
    "from keras.models import Model\n",
    "from keras.optimizers import Adam\n",
    "from keras.layers import Input, Dense, LSTM, concatenate\n",
    "from keras import backend as K\n",
    "\n",
    "K.set_session(tf.Session())"
   ]
  },
  {
   "cell_type": "markdown",
   "metadata": {},
   "source": [
    "### ��������� ��������"
   ]
  },
  {
   "cell_type": "code",
   "execution_count": null,
   "metadata": {
    "collapsed": true
   },
   "outputs": [],
   "source": [
    "# ����������� ���������� ������ �� 1 ���\n",
    "risk_free = 0.01\n",
    "\n",
    "# ���������� �������� � ������� 0.05% �� ������� ������\n",
    "transaction_cost = 0.0005\n",
    "\n",
    "# ���������� ������� ���� � ����\n",
    "trading_days = 250                          \n",
    "\n",
    "# �������� ��������� ����������������� ������������ ����� (������ ������ ����������� ����)\n",
    "theta = 0.02\n",
    "\n",
    "# �������� �������� ��������\n",
    "learn_rate = 0.1\n",
    "\n",
    "# ����������� ��������������� ������� ����������\n",
    "gamma = np.exp(-risk_free/trading_days)\n",
    "\n",
    "# ���������� ������������ ����� � Q-����\n",
    "rnn_layers = 5\n",
    "\n",
    "# ������ �������� ���� Q-����\n",
    "n_hidden = 15\n",
    "\n",
    "# ������ ����� ��� �������� Q-����\n",
    "batch_size = 64\n",
    "\n",
    "# ��������� �������������: ?-greedy � ��������� �� ?=0.001 � ������� 1000 ��������\n",
    "Epsilon_decay_periods = 1000\n",
    "Epsilon_start = 1.000\n",
    "Epsilon_end = 0.001"
   ]
  },
  {
   "cell_type": "markdown",
   "metadata": {},
   "source": [
    "### �������� ������������ ��������"
   ]
  },
  {
   "cell_type": "markdown",
   "metadata": {},
   "source": [
    "� �������� ������������ �������� ������������ ��������� ����������:\n",
    "* ���� �� �����, ���, ����� � ����\n",
    "* ������ ������ ���. ��������� ���\n",
    "* ���������� ������� S&P 500, VIX � 5-������ ��������� ��������\n",
    "* ������� �����������, �������� ����� � ������� ������� � �������\n",
    "* ������� ������� ������ � �������� ���� �� ��������������"
   ]
  },
  {
   "cell_type": "code",
   "execution_count": null,
   "metadata": {
    "collapsed": true
   },
   "outputs": [],
   "source": [
    "Features = pd.read_csv('Features.csv', parse_dates = ['date_']).set_index('date_')\n",
    "\n",
    "# ���-����������������� ��������� ����� ��� ��������� �� ��������������\n",
    "Features['SP500_Adj_Close'] = np.log(Features['SP500_Adj_Close']) - np.log(Features['SP500_Adj_Close'].shift(1))\n",
    "Features['WTI'] = np.log(Features['WTI']) - np.log(Features['WTI'].shift(1))\n",
    "Features['Natural_Gas'] = np.log(Features['Natural_Gas']) - np.log(Features['Natural_Gas'].shift(1))\n",
    "Features['Coal_Price'] = np.log(Features['Coal_Price']) - np.log(Features['Coal_Price'].shift(1))\n",
    "Features['Uranium_Price'] = np.log(Features['Uranium_Price']) - np.log(Features['Uranium_Price'].shift(1))\n",
    "Features['VIX'] = np.log(Features['VIX']) - np.log(Features['VIX'].shift(1))\n",
    "Features['Electricity_NE_Price'] = (np.log(Features['Electricity_NE_Price']) - \n",
    "                                    np.log(Features['Electricity_NE_Price'].shift(1)))\n",
    "Features['Electricity_PJM_Price'] = (np.log(Features['Electricity_PJM_Price']) - \n",
    "                                     np.log(Features['Electricity_PJM_Price'].shift(1)))\n",
    "Features['Temperature'] = np.log(Features['Temperature']) - np.log(Features['Temperature'].shift(1))\n",
    "Features['Wind_Speed'] = np.log(1+Features['Wind_Speed']) - np.log(1+Features['Wind_Speed'].shift(1))\n",
    "Features['Precipitation'] = np.log(1+Features['Precipitation']) - np.log(1+Features['Precipitation'].shift(1))\n",
    "Features['Load_Forecast'] = np.log(Features['Load_Forecast']) - np.log(Features['Load_Forecast'].shift(1))\n",
    "\n",
    "Features.dropna(inplace=True)"
   ]
  },
  {
   "cell_type": "markdown",
   "metadata": {},
   "source": [
    "### �������� ��� ���������� �������"
   ]
  },
  {
   "cell_type": "code",
   "execution_count": null,
   "metadata": {
    "collapsed": true
   },
   "outputs": [],
   "source": [
    "PEG = pd.read_csv('Prices_PEG.csv', parse_dates = ['Date'])\n",
    "ED = pd.read_csv('Prices_ED.csv', parse_dates = ['Date'])\n",
    "ES = pd.read_csv('Prices_ES.csv', parse_dates = ['Date'])\n",
    "\n",
    "# ������ ������� ����������� �����\n",
    "PEG['PEG'] = np.log(PEG['Adj Close']) - np.log(PEG['Adj Close'].shift(1))\n",
    "ED['ED'] = np.log(ED['Adj Close']) - np.log(ED['Adj Close'].shift(1))\n",
    "ES['ES'] = np.log(ES['Adj Close']) - np.log(ES['Adj Close'].shift(1))\n",
    "\n",
    "# ������ ������� ���������� ������������ ������ \n",
    "rf = pd.Series(len(Features.index)*[np.exp(risk_free/trading_days)-1], index = Features.index, name = 'rf')\n",
    "\n",
    "# ������������� ����������� � ������������� ���������\n",
    "PEG = PEG.set_index('Date')['PEG'].loc[Features.index]\n",
    "ED = ED.set_index('Date')['ED'].loc[Features.index]\n",
    "ES = ES.set_index('Date')['ES'].loc[Features.index]\n",
    "\n",
    "# ����������� ����������� � ���� DataFrame\n",
    "Returns = pd.DataFrame([PEG, ED, ES, rf]).T"
   ]
  },
  {
   "cell_type": "markdown",
   "metadata": {},
   "source": [
    "### ��������� ��������� � �������� �������"
   ]
  },
  {
   "cell_type": "markdown",
   "metadata": {},
   "source": [
    "� �������� �������� ������� ����� �������������� ������ �� 2016 �."
   ]
  },
  {
   "cell_type": "code",
   "execution_count": null,
   "metadata": {
    "collapsed": true
   },
   "outputs": [],
   "source": [
    "# ����, � ������� ���������� �������� ������\n",
    "test_split_date = '2016-01-01'\n",
    "\n",
    "# ���������� ���������� � ��������� �������\n",
    "train_samples_num = len(Returns[Returns.index < test_split_date].index)"
   ]
  },
  {
   "cell_type": "markdown",
   "metadata": {},
   "source": [
    "### ������������� ���������� �������� �������� "
   ]
  },
  {
   "cell_type": "markdown",
   "metadata": {},
   "source": [
    "��� ��������� ������ ��������������, ��� ��������� �������� ������ ����� ����� ��������� ��������� ���������� ���������� ��������. � ���� ����� ��������������� ������������ ��������� �� 4-� �������, � ������� �������� ����������� ���������������. ���������� ���������� �������� �������� ��� ����� ������� ����� ���� ��������� �� �������:\n",
    "![����������� �����](Pic2.png)"
   ]
  },
  {
   "cell_type": "code",
   "execution_count": null,
   "metadata": {},
   "outputs": [],
   "source": [
    "Asset_list = ['PEG', 'ED', 'ES', 'rf']\n",
    "\n",
    "# ��������� ������������ ��������� �� 4-� �������\n",
    "Asset_combinations = []\n",
    "for i in range(1, len(Asset_list)+1):\n",
    "    Asset_combinations.extend(it.combinations(Asset_list, i))\n",
    "\n",
    "# ���������������� ��������� �������� ��� ������� ���������\n",
    "Actions_list = []\n",
    "for Asset_combination in Asset_combinations:\n",
    "    Action = dict((a, 0) for a in Asset_list)\n",
    "    for a in Asset_combination:\n",
    "        Action[a] = 1 / len(Asset_combination)\n",
    "    Actions_list.append(Action)\n",
    "Actions = pd.DataFrame(Actions_list)\n",
    "\n",
    "# ����� ��������� ���������� �������� �������� \n",
    "print (\"���������� ���� ������� � ��������:\")\n",
    "Actions"
   ]
  },
  {
   "cell_type": "markdown",
   "metadata": {},
   "source": [
    "### ������� �������� ������������ Q-����"
   ]
  },
  {
   "cell_type": "markdown",
   "metadata": {},
   "source": [
    "� �������� Q-���� ������������ ��������� ������������ ��������� ����:\n",
    "* ������������ ������� �������� �� ������������ ���� LSTM, ��������� ��� �������� ��������� ��������� ������������� (�.�. �� ������� �������� ����� ����� �������� ��������� ����� ��� ������� ��������� ���������� �������).\n",
    "* ������� ������������ �������� �������� �� Dense ����, ������ ��� ��� �������� ����������.\n",
    "����������� Q-���� ���������� �� ��������� �������:\n",
    "![����������� Q-����](Pic3.png)"
   ]
  },
  {
   "cell_type": "code",
   "execution_count": null,
   "metadata": {
    "collapsed": true
   },
   "outputs": [],
   "source": [
    "def create_Q_network(features_num, assets_num, rnn_layers, n_hidden, actions_num):\n",
    "    \n",
    "    # ������� ���� ����\n",
    "    Factors = Input(shape=(1, features_num), name='Factors')\n",
    "    Portfolio_Structure = Input(shape=(assets_num, ), name='Portfolio_Structure')\n",
    "\n",
    "    # ������ ���� ���� (������������ LSTM � Dense �����)\n",
    "    Factors_first_layer = LSTM(rnn_layers)(Factors)\n",
    "    Portfolio_Structure_first_layer = Dense(assets_num)(Portfolio_Structure)\n",
    "    first_layer = concatenate([Factors_first_layer, Portfolio_Structure_first_layer])\n",
    "\n",
    "    #####################################################################\n",
    "    #################### ������ ������������ ������� ####################\n",
    "    #####################################################################\n",
    "    \n",
    "    # �������� ������ ���� ����. ��� ���� - Dense. ������� ��������� - relu. ������ - n_hidden.\n",
    "    \n",
    "    second_layer = None\n",
    "    \n",
    "    #####################################################################\n",
    "    #################### ����� ������������ ������� #####################\n",
    "    #####################################################################\n",
    "    \n",
    "    # �������� ���� ����\n",
    "    output_layer = Dense(actions_num, activation='relu', name='output_layer')(second_layer)\n",
    "\n",
    "    # ���������� ������\n",
    "    model = Model(inputs=[Factors, Portfolio_Structure], outputs=output_layer)\n",
    "    model.compile(loss='mse', optimizer=Adam())\n",
    "    \n",
    "    return model"
   ]
  },
  {
   "cell_type": "markdown",
   "metadata": {},
   "source": [
    "### ������� ���������� ����������������� ������������ �����"
   ]
  },
  {
   "cell_type": "markdown",
   "metadata": {},
   "source": [
    "� �������� �������� Q-���� � �������� ������� ������ ������ ������������ ���������������� ����������� �����. �� ���� ��� ������� ����������� �����, �� ����������� �� ��������� ���������� ���� ������� ����������. ������ ���� ������������ ���������� ��������� theta."
   ]
  },
  {
   "cell_type": "code",
   "execution_count": null,
   "metadata": {
    "collapsed": true
   },
   "outputs": [],
   "source": [
    "def differential_sharpe_ratio(R1, A0, B0, theta):   \n",
    "    dA1 = R1 - A0\n",
    "    dB1 = R1**2 - B0\n",
    "    \n",
    "    A1 = A0 + theta*dA1\n",
    "    B1 = B0 + theta*dB1\n",
    "    \n",
    "    if ((B0 - A0**2) != 0):\n",
    "        D1 = (B0*dA1 - 0.5*A0*dB1) / ((B0 - A0**2)**(3/2))\n",
    "    else:\n",
    "        D1 = 0\n",
    "    \n",
    "    return D1, A1, B1"
   ]
  },
  {
   "cell_type": "markdown",
   "metadata": {},
   "source": [
    "### ���������� ��������� ��������� Q-��������"
   ]
  },
  {
   "cell_type": "code",
   "execution_count": null,
   "metadata": {},
   "outputs": [],
   "source": [
    "# ��������� seed ����������� ��������� �����\n",
    "np.random.seed(1234)\n",
    "tf.set_random_seed(1234)\n",
    "\n",
    "#####################################################################\n",
    "#################### ������ ������������ ������� ####################\n",
    "#####################################################################\n",
    "\n",
    "# C������� Q-���� �� ���������� �����������:\n",
    "# ���������� ������������ ��������� features_num = len(Features.columns)\n",
    "# ���������� ��������� ������� assets_num = len(Actions.columns)\n",
    "# ���������� ������������ ����� � Q-���� rnn_layers = rnn_layers\n",
    "# ������ �������� ���� Q-���� n_hidden = n_hidden\n",
    "# ���������� ���������� �������� actions_num = len(Actions.index)\n",
    "\n",
    "Q_network = None\n",
    "\n",
    "#####################################################################\n",
    "#################### ����� ������������ ������� #####################\n",
    "#####################################################################\n",
    "\n",
    "# �������� �������� Q-���� �� 10 ��������\n",
    "print(\"������ ��������.\\n\")\n",
    "iter_num = 0\n",
    "for episode in range(1, 11):\n",
    "    \n",
    "    # ��������� ������������ ��������: 100% ����������� �����\n",
    "    last_state = Actions.iloc[3]\n",
    "    A0, B0 = risk_free, risk_free**2\n",
    "    \n",
    "    # �������� ����������� ����������� �������� Q-����\n",
    "    loss = 0\n",
    "    \n",
    "    # �������� �� ������ � ������ �������\n",
    "    for i in range(0, train_samples_num - 1, batch_size):\n",
    "        \n",
    "        # ������� ��� �������� ����������� �������� � ������� Q-��������\n",
    "        a_list, target_list = [], []\n",
    "        \n",
    "        # ���������� ���������� ? � ��������� �������������\n",
    "        iter_num += 1\n",
    "        Epsilon = Epsilon_start + (Epsilon_end - Epsilon_start) * min(iter_num / Epsilon_decay_periods, 1)\n",
    "        \n",
    "        # �������� �� ����������� � ������ �����\n",
    "        for j in range(i, min(i + batch_size, train_samples_num - 1)):\n",
    "            \n",
    "            # ������������ ����������� Q-�������� � ������� ������� ������ Q-����\n",
    "            Q_targets = Q_network.predict({'Factors': Features.iloc[j].values.reshape((1, 1, len(Features.iloc[j]))), \n",
    "                                           'Portfolio_Structure': last_state.values.reshape((1, len(last_state)))})[0]\n",
    "            \n",
    "            # ���������� ?-greedy ��������� �������������\n",
    "            if (np.random.random() < Epsilon):\n",
    "                \n",
    "                #####################################################################\n",
    "                #################### ������ ������������ ������� ####################\n",
    "                #####################################################################\n",
    "                \n",
    "                # ���������� ����� ���������� �������� �� ������� Actions. ����������� ������� np.random.choice.\n",
    "                # ��������� ������ ������� �������� � ������� Actions, � ����� ���� �������� (������������ ��������)\n",
    "                \n",
    "                a_index = None\n",
    "                a = None\n",
    "                \n",
    "                #####################################################################\n",
    "                #################### ����� ������������ ������� #####################\n",
    "                #####################################################################\n",
    "                                \n",
    "            else:\n",
    "                a_index = np.argmax(Q_targets)\n",
    "                a = Actions.loc[a_index]\n",
    "            \n",
    "            # ���������� ������� ���������� �������� �� �������������� ��������\n",
    "            delta_weights = abs(a - last_state)\n",
    "            transaction_costs = transaction_cost * delta_weights \n",
    "            \n",
    "            # ���������� ���������� ���������� ������� � ��������\n",
    "            portfolio_returns = np.multiply(a, Returns.iloc[j])\n",
    "            \n",
    "            # ���������� ������ ���������� ��������\n",
    "            r = np.sum(portfolio_returns - transaction_costs)\n",
    "\n",
    "            # ���������� ����������������� ������������ �����\n",
    "            D1, A0, B0 = differential_sharpe_ratio(r, A0, B0, theta)   \n",
    "\n",
    "            # ������������ ���������� Q-�������� � ������� ������� ������ Q-����\n",
    "            Q1 = Q_network.predict({'Factors': Features.iloc[j+1].values.reshape((1, 1, len(Features.iloc[j+1]))), \n",
    "                                    'Portfolio_Structure': a.values.reshape((1, len(a)))})[0]\n",
    "\n",
    "            # ������ ����������� �������� Q-����\n",
    "            loss += abs(D1 + gamma * np.max(Q1) - Q_targets[a_index])\n",
    "            \n",
    "            #####################################################################\n",
    "            #################### ������ ������������ ������� ####################\n",
    "            #####################################################################\n",
    "\n",
    "            # ��������� ������� Q-�������� �� ������ ��������� ����������.\n",
    "            # ����������� ���������� D1 � �������� ������� �������.\n",
    "            # �� �������� ������ �������� �������� ��������.\n",
    "            \n",
    "            Q_targets[a_index] = None\n",
    "\n",
    "            #####################################################################\n",
    "            #################### ����� ������������ ������� #####################\n",
    "            #####################################################################\n",
    "            \n",
    "            # ���������� ����������� �������� � ������� Q-��������\n",
    "            a_list.append(list(last_state))\n",
    "            target_list.append(Q_targets)            \n",
    "            \n",
    "            # ���������� ��������� ������������ ��������\n",
    "            last_state = a.copy()\n",
    "\n",
    "        # ������������� ������������ �������� � ���������� ������ ����������\n",
    "        train_features = Features.iloc[i : min(i + batch_size, train_samples_num - 1)]\n",
    "        train_features = train_features.values.reshape((train_features.shape[0], 1, train_features.shape[1]))\n",
    "        \n",
    "        # ���������� Q-���� �� ���������� ����� ����������\n",
    "        Q_network.train_on_batch(x = {'Factors': train_features,\n",
    "                                      'Portfolio_Structure': np.array(a_list)},\n",
    "                                 y = np.array(target_list))\n",
    "        \n",
    "    print ('������ ' + str(episode) + '. ����������� �������� Q-c��� %0.3f.' % (loss / (train_samples_num - 1)))\n",
    "\n",
    "print(\"\\n�������� �� �������� ���������� �������� ���������\")"
   ]
  },
  {
   "cell_type": "markdown",
   "metadata": {},
   "source": [
    "# ������ ������������� AI ������ �� �������� �������"
   ]
  },
  {
   "cell_type": "markdown",
   "metadata": {},
   "source": [
    "### �������� ������������� ������"
   ]
  },
  {
   "cell_type": "markdown",
   "metadata": {},
   "source": [
    "��������� ������������ �������� Q-���� �������� ������� ���������� �������, � ���������� ������� �� ������������� ������� ������������� ������� �� ������� ���������� ��������."
   ]
  },
  {
   "cell_type": "code",
   "execution_count": null,
   "metadata": {},
   "outputs": [],
   "source": [
    "Q_network.load_weights(\"model.h5\")\n",
    "print (\"������������� ������ ������� ���������\")"
   ]
  },
  {
   "cell_type": "markdown",
   "metadata": {},
   "source": [
    "###  ��������� �������� AI ������ � ���������� ����������� ������������ ��������"
   ]
  },
  {
   "cell_type": "code",
   "execution_count": null,
   "metadata": {
    "collapsed": true
   },
   "outputs": [],
   "source": [
    "action_tracker = []\n",
    "test_portfolio_r = []\n",
    "\n",
    "# ��������� ������������ ��������: 100% ����������� �����\n",
    "last_state = Actions.iloc[3]\n",
    "\n",
    "# �������� �� ������� ��� ��������� �������\n",
    "for i in range(train_samples_num, len(Features.index)):\n",
    "    \n",
    "    # ������������ Q-�������� � ������� ��������� Q-����\n",
    "    Q_targets = Q_network.predict({'Factors': Features.iloc[i].values.reshape((1, 1, len(Features.iloc[i]))), \n",
    "                                   'Portfolio_Structure': last_state.values.reshape((1, len(last_state)))})[0]\n",
    "    \n",
    "    # ����� ��������� ������������ ��������\n",
    "    a_index = np.argmax(Q_targets)\n",
    "    a = Actions.loc[a_index]\n",
    "    \n",
    "    # ���������� ��������� ������������ ��������\n",
    "    action_tracker.append(a)\n",
    "    \n",
    "    # ���������� ������� ���������� �������� �� �������������� ��������\n",
    "    delta_weights = abs(a - last_state)\n",
    "    transaction_costs = transaction_cost * delta_weights \n",
    "    \n",
    "    # ���������� ���������� ���������� ������� � ��������\n",
    "    portfolio_returns = np.multiply(a, Returns.iloc[i])\n",
    "       \n",
    "    # ���������� ������ ������� ���������� ��������\n",
    "    test_portfolio_r.append(np.sum(portfolio_returns - transaction_costs))\n",
    "    \n",
    "test_portfolio_r = pd.Series(test_portfolio_r)"
   ]
  },
  {
   "cell_type": "markdown",
   "metadata": {},
   "source": [
    "### ������ ������� �������� �������� � �������� ���������� ���������"
   ]
  },
  {
   "cell_type": "markdown",
   "metadata": {},
   "source": [
    "��������� AI ����� ��������� ��������������� ����-���������� ���������� ��������, �� �� ������������ ��� �������������� ������ � ��� ������, ���� ����������� ���������� ������� ������ ���������������� ����� ��������� ���������� �������. � ��������� ������, AI ����� ������������ ������� ������� � ����������� ������."
   ]
  },
  {
   "cell_type": "code",
   "execution_count": null,
   "metadata": {},
   "outputs": [],
   "source": [
    "pd.concat(action_tracker).rename('������ ��������, %').reset_index().groupby(['index']).mean()"
   ]
  },
  {
   "cell_type": "markdown",
   "metadata": {},
   "source": [
    "### �������� ��������� � ���������� ��� �����������"
   ]
  },
  {
   "cell_type": "markdown",
   "metadata": {},
   "source": [
    "� �������� ��������� ��������������� ��������� ���������� � 4 ��������� ������ � ������ ����������. ���� �������� ��������� - ���������, ������ �� AI ����� �������� ���������� �����, ��� ������� �������������� �������������� ���������, ��������� ������� ���������."
   ]
  },
  {
   "cell_type": "code",
   "execution_count": null,
   "metadata": {
    "collapsed": true
   },
   "outputs": [],
   "source": [
    "test_benchmark_value = pd.Series([0.25, 0.25, 0.25, 0.25], index = Returns.columns)\n",
    "test_benchmark_r = []\n",
    "\n",
    "# �������� �� ������� ��� ��������� �������\n",
    "for i in range(train_samples_num, len(Features.index)):\n",
    "\n",
    "    # ���������� ������� ���������� ���������\n",
    "    r_b = np.sum(test_benchmark_value * (1.0 + Returns.iloc[i])) / np.sum(test_benchmark_value) - 1.0\n",
    "    \n",
    "    # ���������� �������������� ��������� ���������\n",
    "    test_benchmark_value = test_benchmark_value * (1.0 + Returns.iloc[i])\n",
    "        \n",
    "    # ���������� ������� ���������� ���������\n",
    "    test_benchmark_r.append(r_b)\n",
    "\n",
    "test_benchmark_r = pd.Series(test_benchmark_r)"
   ]
  },
  {
   "cell_type": "markdown",
   "metadata": {},
   "source": [
    "### ������ ������ ����������� �������� ������ ���������"
   ]
  },
  {
   "cell_type": "code",
   "execution_count": null,
   "metadata": {},
   "outputs": [],
   "source": [
    "fig, ax = plt.subplots(figsize=(15, 5))\n",
    "ax.plot(Returns.iloc[train_samples_num:].index, test_portfolio_r, label = '����������� ��������')\n",
    "ax.plot(Returns.iloc[train_samples_num:].index, test_benchmark_r, label = '��������')\n",
    "ax.legend()\n",
    "plt.title('������ ������� ����������')\n",
    "plt.show()"
   ]
  },
  {
   "cell_type": "markdown",
   "metadata": {},
   "source": [
    "### ������ ����������� ���������� ���������� ���������"
   ]
  },
  {
   "cell_type": "markdown",
   "metadata": {},
   "source": [
    "���������� ������������ �������� ��������� ����������� � ����������. ������ AI ����� ����� �������� ������� ������������� ��������, � ���������� ���� �� ������� ����������� ����� ������� ����������� �����."
   ]
  },
  {
   "cell_type": "code",
   "execution_count": null,
   "metadata": {},
   "outputs": [],
   "source": [
    "# ���������� ����������� ���������\n",
    "portfolio_total_return = np.prod(1.0 + test_portfolio_r) - 1.0\n",
    "benchmark_total_return = np.prod(1.0 + test_benchmark_r) - 1.0\n",
    "\n",
    "# ���������� ����������� ���������� ���������\n",
    "portfolio_std = np.std(test_portfolio_r) * np.sqrt(len(test_portfolio_r))\n",
    "benchmark_std = np.std(test_benchmark_r) * np.sqrt(len(test_benchmark_r))\n",
    "\n",
    "# ���������� ������������� ����� ���������\n",
    "portfolio_sharpe_ratio = (portfolio_total_return - risk_free) / portfolio_std\n",
    "benchmark_sharpe_ratio = (benchmark_total_return - risk_free) / benchmark_std\n",
    "\n",
    "# ����� ������� � ������������\n",
    "print(tabulate([['����������', '%0.1f%%' % (100*benchmark_total_return), '%0.1f%%' % (100*portfolio_total_return)],\n",
    "                ['��. ����������', '%0.1f%%' % (100*benchmark_std), '%0.1f%%' % (100*portfolio_std)],\n",
    "                ['����������� �����', '%0.2f' % benchmark_sharpe_ratio, '%0.2f' % portfolio_sharpe_ratio]],\n",
    "               headers = ['', '��������', '����������� ��������']))"
   ]
  },
  {
   "cell_type": "markdown",
   "metadata": {
    "collapsed": true
   },
   "source": [
    " "
   ]
  }
 ],
 "metadata": {
  "anaconda-cloud": {},
  "kernelspec": {
   "display_name": "Python 3",
   "language": "python",
   "name": "python3"
  },
  "language_info": {
   "codemirror_mode": {
    "name": "ipython",
    "version": 3
   },
   "file_extension": ".py",
   "mimetype": "text/x-python",
   "name": "python",
   "nbconvert_exporter": "python",
   "pygments_lexer": "ipython3",
   "version": "3.6.1"
  }
 },
 "nbformat": 4,
 "nbformat_minor": 1
}
